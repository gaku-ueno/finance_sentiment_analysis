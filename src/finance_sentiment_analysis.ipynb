{
 "cells": [
  {
   "attachments": {},
   "cell_type": "markdown",
   "metadata": {},
   "source": [
    "# Finance Sentiment Analysis Project\n",
    "\n",
    "- Predicting stock prices using data from reddit on the r/wallstreetbets subreddit\n",
    "- Data courtesy of Gabriel Preda on Kaggle"
   ]
  }
 ],
 "metadata": {
  "language_info": {
   "name": "python"
  },
  "orig_nbformat": 4
 },
 "nbformat": 4,
 "nbformat_minor": 2
}
